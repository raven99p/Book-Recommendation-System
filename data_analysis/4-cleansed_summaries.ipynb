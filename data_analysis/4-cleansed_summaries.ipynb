{
 "cells": [
  {
   "cell_type": "code",
   "execution_count": 2,
   "metadata": {},
   "outputs": [],
   "source": [
    "import pandas as pd\n",
    "from nltk.corpus import stopwords \n",
    "from nltk.tokenize import word_tokenize\n",
    "from nltk.stem import WordNetLemmatizer"
   ]
  },
  {
   "cell_type": "code",
   "execution_count": 3,
   "metadata": {},
   "outputs": [],
   "source": [
    "data = pd.read_csv(\"books_rating_above_7.csv\", index_col=False, encoding='utf8')"
   ]
  },
  {
   "cell_type": "code",
   "execution_count": 7,
   "metadata": {},
   "outputs": [],
   "source": [
    "\n",
    "lemmatizer = WordNetLemmatizer()\n",
    "\n",
    "stopWordsEnglish = stopwords.words('english')\n",
    "punctuation = [\".\", \";\", \":\",  \"?\", \"(\", \")\", \"[\", \"]\", \"\\\"\", \"%\", \"@\", \"~\"\n",
    "            \"\\'\", \"!\", \"...\", \"..\", \"-\", \"/\", \"*\", \"`\", \"``\", \"''\",\n",
    "            \"_\", \"&\", \"--\", \"#\", \"quot\", ',', \" \", \"&#\", \";--\", \".&\", \";.\", \"),\", \";,\",\n",
    "             \".......\", \".&#\", \"!!\", \"!&\", \";).\", \"!)\", \"!&#\", \"&#39\", \"1-2\", '$', '.4', '-295', 'v.1', 'v.2', 'v.3', 'v']\n",
    "stopWordsEnglish.extend(punctuation)\n",
    "\n",
    "\n",
    "data[\"summary\"] = data[\"summary\"].apply(word_tokenize)\n",
    "\n",
    "data[\"summary\"] = data[\"summary\"].apply(lambda tokenized_sentece: [word_token.lower() for word_token in tokenized_sentece if word_token.lower() not in stopWordsEnglish and not word_token.isnumeric()])\n",
    "\n",
    "data[\"summary\"] = data[\"summary\"].apply(lambda x: [lemmatizer.lemmatize(item) for item in x ])\n",
    "\n",
    "data[\"summary\"] = data[\"summary\"].apply(lambda tokenized_sentece: \" \".join(tokenized_sentece))"
   ]
  },
  {
   "cell_type": "code",
   "execution_count": 9,
   "metadata": {},
   "outputs": [],
   "source": [
    "data.to_csv(\"good_books_normalised_summary.csv\", index=False)"
   ]
  },
  {
   "cell_type": "code",
   "execution_count": null,
   "metadata": {},
   "outputs": [],
   "source": []
  }
 ],
 "metadata": {
  "kernelspec": {
   "display_name": "Python 3",
   "language": "python",
   "name": "python3"
  },
  "language_info": {
   "codemirror_mode": {
    "name": "ipython",
    "version": 3
   },
   "file_extension": ".py",
   "mimetype": "text/x-python",
   "name": "python",
   "nbconvert_exporter": "python",
   "pygments_lexer": "ipython3",
   "version": "3.10.8"
  },
  "orig_nbformat": 4
 },
 "nbformat": 4,
 "nbformat_minor": 2
}
