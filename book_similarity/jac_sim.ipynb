{
 "cells": [
  {
   "cell_type": "code",
   "execution_count": null,
   "metadata": {},
   "outputs": [],
   "source": [
    "import pandas as pd\n",
    "import multiprocessing as mp\n",
    "from nltk.tokenize import word_tokenize\n",
    "from functools import partial\n",
    "from tqdm import tqdm"
   ]
  },
  {
   "cell_type": "code",
   "execution_count": null,
   "metadata": {},
   "outputs": [],
   "source": [
    "books = pd.read_csv(\"book_summaries.csv\", index_col=False)"
   ]
  },
  {
   "cell_type": "code",
   "execution_count": null,
   "metadata": {},
   "outputs": [],
   "source": [
    "books[\"summary\"] = books[\"summary\"].apply(word_tokenize)"
   ]
  },
  {
   "cell_type": "code",
   "execution_count": null,
   "metadata": {},
   "outputs": [],
   "source": [
    "len(books[\"summary\"])"
   ]
  },
  {
   "cell_type": "code",
   "execution_count": null,
   "metadata": {},
   "outputs": [],
   "source": [
    "# def calculate_jaccard_similarity(word_tokens1, word_tokens2):\n",
    "#     # Combine both tokens to find union.\n",
    "#     both_tokens = word_tokens1 + word_tokens2\n",
    "#     union = set(both_tokens)\n",
    "\n",
    "#     # Calculate intersection.\n",
    "#     intersection = set()\n",
    "#     for w in word_tokens1:\n",
    "#         if w in word_tokens2:\n",
    "#             intersection.add(w)\n",
    "\n",
    "#     jaccard_score = len(intersection)/len(union)\n",
    "#     return jaccard_score\n",
    "\n",
    "iteration = 0\n",
    "\n",
    "def calculate_jaccard_similarity(word_tokens1, word_tokens2):\n",
    "    set1 = set(word_tokens1)\n",
    "    set2 = set(word_tokens2)\n",
    "\n",
    "    intersection = set1 & set2\n",
    "    union = set1 | set2\n",
    "\n",
    "    jaccard_score = len(intersection) / len(union)\n",
    "    \n",
    "    iteration += 1\n",
    "    print(iteration)\n",
    "    \n",
    "    return jaccard_score\n",
    "\n",
    "def process_pair(pair, summaries, isbn_list):\n",
    "    idx1, idx2 = pair\n",
    "    isbn1 = isbn_list[idx1]\n",
    "    isbn2 = isbn_list[idx2]\n",
    "    summary1 = summaries.loc[idx1]\n",
    "    summary2 = summaries.loc[idx2]\n",
    "    similarity = calculate_jaccard_similarity(summary1, summary2)\n",
    " \n",
    "    return isbn1, isbn2, similarity\n",
    "\n",
    "def calculate_similarity_parallel(summaries, isbn_list):\n",
    "    pairs = [(i, j) for i in summaries.index for j in summaries.index if i < j]\n",
    "    pool = mp.Pool()\n",
    "    func = partial(process_pair, summaries=summaries, isbn_list=isbn_list)\n",
    "    results = list(tqdm(pool.imap(func, pairs), total=len(pairs)))\n",
    "    pool.close()\n",
    "    pool.join()\n",
    "    return results"
   ]
  },
  {
   "cell_type": "code",
   "execution_count": null,
   "metadata": {},
   "outputs": [],
   "source": [
    "results = calculate_similarity_parallel(books['summary'], books[\"isbn\"])"
   ]
  }
 ],
 "metadata": {
  "kernelspec": {
   "display_name": "Python 3",
   "language": "python",
   "name": "python3"
  },
  "language_info": {
   "codemirror_mode": {
    "name": "ipython",
    "version": 3
   },
   "file_extension": ".py",
   "mimetype": "text/x-python",
   "name": "python",
   "nbconvert_exporter": "python",
   "pygments_lexer": "ipython3",
   "version": "3.10.8"
  },
  "orig_nbformat": 4
 },
 "nbformat": 4,
 "nbformat_minor": 2
}
